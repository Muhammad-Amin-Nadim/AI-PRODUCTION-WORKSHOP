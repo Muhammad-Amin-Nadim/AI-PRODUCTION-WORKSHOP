{
 "cells": [
  {
   "cell_type": "code",
   "execution_count": 29,
   "metadata": {},
   "outputs": [],
   "source": [
    "edgelist = [['Mannheim', 'Frankfurt', 85], ['Mannheim', 'Karlsruhe', 80], \n",
    "['Erfurt', 'Wurzburg', 186], ['Munchen', 'Numberg', 167], ['Munchen', 'Augsburg', 84], \n",
    "['Munchen', 'Kassel', 502], ['Numberg', 'Stuttgart', 183], ['Numberg', 'Wurzburg', 103], \n",
    "['Numberg', 'Munchen', 167], ['Stuttgart', 'Numberg', 183], ['Augsburg', 'Munchen', 84], \n",
    "['Augsburg', 'Karlsruhe', 250], ['Kassel', 'Munchen', 502], ['Kassel', 'Frankfurt', 173], \n",
    "['Frankfurt', 'Mannheim', 85], ['Frankfurt', 'Wurzburg', 217], ['Frankfurt', 'Kassel', 173], \n",
    "['Wurzburg', 'Numberg', 103], ['Wurzburg', 'Erfurt', 186], ['Wurzburg', 'Frankfurt', 217], \n",
    "['Karlsruhe', 'Mannheim', 80], ['Karlsruhe', 'Augsburg', 250],[\"Mumbai\", \"Delhi\",400],\n",
    "[\"Delhi\", \"Kolkata\",500],[\"Kolkata\", \"Bangalore\",600],[\"TX\", \"NY\",1200],[\"ALB\", \"NY\",800]]"
   ]
  },
  {
   "cell_type": "code",
   "execution_count": 30,
   "metadata": {},
   "outputs": [
    {
     "name": "stdout",
     "output_type": "stream",
     "text": [
      "Requirement already satisfied: networkx in c:\\users\\admin\\appdata\\local\\packages\\pythonsoftwarefoundation.python.3.10_qbz5n2kfra8p0\\localcache\\local-packages\\python310\\site-packages (2.8.8)\n",
      "Note: you may need to restart the kernel to use updated packages.\n"
     ]
    }
   ],
   "source": [
    "pip install networkx\n"
   ]
  },
  {
   "cell_type": "code",
   "execution_count": 31,
   "metadata": {},
   "outputs": [],
   "source": [
    "import networkx as nx\n"
   ]
  },
  {
   "cell_type": "code",
   "execution_count": 32,
   "metadata": {},
   "outputs": [],
   "source": [
    "g = nx.Graph()\n",
    "for edge in edgelist:\n",
    "    g.add_edge(edge[0],edge[1], weight = edge[2])"
   ]
  },
  {
   "cell_type": "code",
   "execution_count": 33,
   "metadata": {},
   "outputs": [
    {
     "name": "stdout",
     "output_type": "stream",
     "text": [
      "cc0: {'Numberg', 'Augsburg', 'Kassel', 'Munchen', 'Mannheim', 'Erfurt', 'Stuttgart', 'Frankfurt', 'Karlsruhe', 'Wurzburg'}\n",
      "cc1: {'Bangalore', 'Mumbai', 'Kolkata', 'Delhi'}\n",
      "cc2: {'ALB', 'TX', 'NY'}\n"
     ]
    }
   ],
   "source": [
    "for i, x in enumerate(nx.connected_components(g)):\n",
    "    print(\"cc\"+str(i)+\":\",x)"
   ]
  },
  {
   "cell_type": "code",
   "execution_count": 34,
   "metadata": {},
   "outputs": [
    {
     "name": "stdout",
     "output_type": "stream",
     "text": [
      "('Mannheim', {'Mannheim': ['Mannheim'], 'Frankfurt': ['Mannheim', 'Frankfurt'], 'Karlsruhe': ['Mannheim', 'Karlsruhe'], 'Augsburg': ['Mannheim', 'Karlsruhe', 'Augsburg'], 'Kassel': ['Mannheim', 'Frankfurt', 'Kassel'], 'Wurzburg': ['Mannheim', 'Frankfurt', 'Wurzburg'], 'Munchen': ['Mannheim', 'Karlsruhe', 'Augsburg', 'Munchen'], 'Erfurt': ['Mannheim', 'Frankfurt', 'Wurzburg', 'Erfurt'], 'Numberg': ['Mannheim', 'Frankfurt', 'Wurzburg', 'Numberg'], 'Stuttgart': ['Mannheim', 'Frankfurt', 'Wurzburg', 'Numberg', 'Stuttgart']})\n",
      "('Frankfurt', {'Frankfurt': ['Frankfurt'], 'Mannheim': ['Frankfurt', 'Mannheim'], 'Kassel': ['Frankfurt', 'Kassel'], 'Wurzburg': ['Frankfurt', 'Wurzburg'], 'Karlsruhe': ['Frankfurt', 'Mannheim', 'Karlsruhe'], 'Augsburg': ['Frankfurt', 'Mannheim', 'Karlsruhe', 'Augsburg'], 'Munchen': ['Frankfurt', 'Wurzburg', 'Numberg', 'Munchen'], 'Erfurt': ['Frankfurt', 'Wurzburg', 'Erfurt'], 'Numberg': ['Frankfurt', 'Wurzburg', 'Numberg'], 'Stuttgart': ['Frankfurt', 'Wurzburg', 'Numberg', 'Stuttgart']})\n",
      "('Karlsruhe', {'Karlsruhe': ['Karlsruhe'], 'Mannheim': ['Karlsruhe', 'Mannheim'], 'Augsburg': ['Karlsruhe', 'Augsburg'], 'Frankfurt': ['Karlsruhe', 'Mannheim', 'Frankfurt'], 'Kassel': ['Karlsruhe', 'Mannheim', 'Frankfurt', 'Kassel'], 'Wurzburg': ['Karlsruhe', 'Mannheim', 'Frankfurt', 'Wurzburg'], 'Munchen': ['Karlsruhe', 'Augsburg', 'Munchen'], 'Numberg': ['Karlsruhe', 'Mannheim', 'Frankfurt', 'Wurzburg', 'Numberg'], 'Erfurt': ['Karlsruhe', 'Mannheim', 'Frankfurt', 'Wurzburg', 'Erfurt'], 'Stuttgart': ['Karlsruhe', 'Mannheim', 'Frankfurt', 'Wurzburg', 'Numberg', 'Stuttgart']})\n",
      "('Erfurt', {'Erfurt': ['Erfurt'], 'Wurzburg': ['Erfurt', 'Wurzburg'], 'Numberg': ['Erfurt', 'Wurzburg', 'Numberg'], 'Frankfurt': ['Erfurt', 'Wurzburg', 'Frankfurt'], 'Munchen': ['Erfurt', 'Wurzburg', 'Numberg', 'Munchen'], 'Stuttgart': ['Erfurt', 'Wurzburg', 'Numberg', 'Stuttgart'], 'Mannheim': ['Erfurt', 'Wurzburg', 'Frankfurt', 'Mannheim'], 'Kassel': ['Erfurt', 'Wurzburg', 'Frankfurt', 'Kassel'], 'Augsburg': ['Erfurt', 'Wurzburg', 'Numberg', 'Munchen', 'Augsburg'], 'Karlsruhe': ['Erfurt', 'Wurzburg', 'Frankfurt', 'Mannheim', 'Karlsruhe']})\n",
      "('Wurzburg', {'Wurzburg': ['Wurzburg'], 'Erfurt': ['Wurzburg', 'Erfurt'], 'Numberg': ['Wurzburg', 'Numberg'], 'Frankfurt': ['Wurzburg', 'Frankfurt'], 'Munchen': ['Wurzburg', 'Numberg', 'Munchen'], 'Stuttgart': ['Wurzburg', 'Numberg', 'Stuttgart'], 'Mannheim': ['Wurzburg', 'Frankfurt', 'Mannheim'], 'Kassel': ['Wurzburg', 'Frankfurt', 'Kassel'], 'Augsburg': ['Wurzburg', 'Numberg', 'Munchen', 'Augsburg'], 'Karlsruhe': ['Wurzburg', 'Frankfurt', 'Mannheim', 'Karlsruhe']})\n",
      "('Munchen', {'Munchen': ['Munchen'], 'Numberg': ['Munchen', 'Numberg'], 'Augsburg': ['Munchen', 'Augsburg'], 'Kassel': ['Munchen', 'Kassel'], 'Karlsruhe': ['Munchen', 'Augsburg', 'Karlsruhe'], 'Stuttgart': ['Munchen', 'Numberg', 'Stuttgart'], 'Wurzburg': ['Munchen', 'Numberg', 'Wurzburg'], 'Erfurt': ['Munchen', 'Numberg', 'Wurzburg', 'Erfurt'], 'Frankfurt': ['Munchen', 'Numberg', 'Wurzburg', 'Frankfurt'], 'Mannheim': ['Munchen', 'Augsburg', 'Karlsruhe', 'Mannheim']})\n",
      "('Numberg', {'Numberg': ['Numberg'], 'Munchen': ['Numberg', 'Munchen'], 'Stuttgart': ['Numberg', 'Stuttgart'], 'Wurzburg': ['Numberg', 'Wurzburg'], 'Erfurt': ['Numberg', 'Wurzburg', 'Erfurt'], 'Frankfurt': ['Numberg', 'Wurzburg', 'Frankfurt'], 'Augsburg': ['Numberg', 'Munchen', 'Augsburg'], 'Kassel': ['Numberg', 'Wurzburg', 'Frankfurt', 'Kassel'], 'Karlsruhe': ['Numberg', 'Wurzburg', 'Frankfurt', 'Mannheim', 'Karlsruhe'], 'Mannheim': ['Numberg', 'Wurzburg', 'Frankfurt', 'Mannheim']})\n",
      "('Augsburg', {'Augsburg': ['Augsburg'], 'Munchen': ['Augsburg', 'Munchen'], 'Karlsruhe': ['Augsburg', 'Karlsruhe'], 'Numberg': ['Augsburg', 'Munchen', 'Numberg'], 'Kassel': ['Augsburg', 'Munchen', 'Kassel'], 'Mannheim': ['Augsburg', 'Karlsruhe', 'Mannheim'], 'Stuttgart': ['Augsburg', 'Munchen', 'Numberg', 'Stuttgart'], 'Wurzburg': ['Augsburg', 'Munchen', 'Numberg', 'Wurzburg'], 'Frankfurt': ['Augsburg', 'Karlsruhe', 'Mannheim', 'Frankfurt'], 'Erfurt': ['Augsburg', 'Munchen', 'Numberg', 'Wurzburg', 'Erfurt']})\n",
      "('Kassel', {'Kassel': ['Kassel'], 'Munchen': ['Kassel', 'Munchen'], 'Frankfurt': ['Kassel', 'Frankfurt'], 'Mannheim': ['Kassel', 'Frankfurt', 'Mannheim'], 'Wurzburg': ['Kassel', 'Frankfurt', 'Wurzburg'], 'Karlsruhe': ['Kassel', 'Frankfurt', 'Mannheim', 'Karlsruhe'], 'Augsburg': ['Kassel', 'Munchen', 'Augsburg'], 'Erfurt': ['Kassel', 'Frankfurt', 'Wurzburg', 'Erfurt'], 'Numberg': ['Kassel', 'Frankfurt', 'Wurzburg', 'Numberg'], 'Stuttgart': ['Kassel', 'Frankfurt', 'Wurzburg', 'Numberg', 'Stuttgart']})\n",
      "('Stuttgart', {'Stuttgart': ['Stuttgart'], 'Numberg': ['Stuttgart', 'Numberg'], 'Munchen': ['Stuttgart', 'Numberg', 'Munchen'], 'Wurzburg': ['Stuttgart', 'Numberg', 'Wurzburg'], 'Erfurt': ['Stuttgart', 'Numberg', 'Wurzburg', 'Erfurt'], 'Frankfurt': ['Stuttgart', 'Numberg', 'Wurzburg', 'Frankfurt'], 'Augsburg': ['Stuttgart', 'Numberg', 'Munchen', 'Augsburg'], 'Kassel': ['Stuttgart', 'Numberg', 'Wurzburg', 'Frankfurt', 'Kassel'], 'Karlsruhe': ['Stuttgart', 'Numberg', 'Wurzburg', 'Frankfurt', 'Mannheim', 'Karlsruhe'], 'Mannheim': ['Stuttgart', 'Numberg', 'Wurzburg', 'Frankfurt', 'Mannheim']})\n",
      "('Mumbai', {'Mumbai': ['Mumbai'], 'Delhi': ['Mumbai', 'Delhi'], 'Kolkata': ['Mumbai', 'Delhi', 'Kolkata'], 'Bangalore': ['Mumbai', 'Delhi', 'Kolkata', 'Bangalore']})\n",
      "('Delhi', {'Delhi': ['Delhi'], 'Mumbai': ['Delhi', 'Mumbai'], 'Kolkata': ['Delhi', 'Kolkata'], 'Bangalore': ['Delhi', 'Kolkata', 'Bangalore']})\n",
      "('Kolkata', {'Kolkata': ['Kolkata'], 'Delhi': ['Kolkata', 'Delhi'], 'Bangalore': ['Kolkata', 'Bangalore'], 'Mumbai': ['Kolkata', 'Delhi', 'Mumbai']})\n",
      "('Bangalore', {'Bangalore': ['Bangalore'], 'Kolkata': ['Bangalore', 'Kolkata'], 'Delhi': ['Bangalore', 'Kolkata', 'Delhi'], 'Mumbai': ['Bangalore', 'Kolkata', 'Delhi', 'Mumbai']})\n",
      "('TX', {'TX': ['TX'], 'NY': ['TX', 'NY'], 'ALB': ['TX', 'NY', 'ALB']})\n",
      "('NY', {'NY': ['NY'], 'TX': ['NY', 'TX'], 'ALB': ['NY', 'ALB']})\n",
      "('ALB', {'ALB': ['ALB'], 'NY': ['ALB', 'NY'], 'TX': ['ALB', 'NY', 'TX']})\n"
     ]
    }
   ],
   "source": [
    "for x in nx.all_pairs_dijkstra_path(g,weight='weight'):\n",
    "    print(x)"
   ]
  },
  {
   "cell_type": "code",
   "execution_count": 35,
   "metadata": {},
   "outputs": [
    {
     "name": "stdout",
     "output_type": "stream",
     "text": [
      "['Stuttgart', 'Numberg', 'Wurzburg', 'Frankfurt']\n",
      "503\n"
     ]
    }
   ],
   "source": [
    "print(nx.shortest_path(g, 'Stuttgart','Frankfurt',weight='weight'))\n",
    "print(nx.shortest_path_length(g, 'Stuttgart','Frankfurt',weight='weight'))\n"
   ]
  },
  {
   "cell_type": "code",
   "execution_count": 36,
   "metadata": {},
   "outputs": [
    {
     "ename": "FileNotFoundError",
     "evalue": "[Errno 2] No such file or directory: 'facebook-combined.txt'",
     "output_type": "error",
     "traceback": [
      "\u001b[1;31m---------------------------------------------------------------------------\u001b[0m",
      "\u001b[1;31mFileNotFoundError\u001b[0m                         Traceback (most recent call last)",
      "Cell \u001b[1;32mIn [36], line 1\u001b[0m\n\u001b[1;32m----> 1\u001b[0m fb \u001b[39m=\u001b[39m nx\u001b[39m.\u001b[39;49mread_edgelist(\u001b[39m'\u001b[39;49m\u001b[39mfacebook-combined.txt\u001b[39;49m\u001b[39m'\u001b[39;49m, create_using \u001b[39m=\u001b[39;49m nx\u001b[39m.\u001b[39;49mGraph(), nodetype \u001b[39m=\u001b[39;49m \u001b[39mint\u001b[39;49m)\n",
      "File \u001b[1;32m<class 'networkx.utils.decorators.argmap'> compilation 9:3\u001b[0m, in \u001b[0;36margmap_read_edgelist_5\u001b[1;34m(path, comments, delimiter, create_using, nodetype, data, edgetype, encoding)\u001b[0m\n\u001b[0;32m      1\u001b[0m \u001b[39mimport\u001b[39;00m \u001b[39mbz2\u001b[39;00m\n\u001b[0;32m      2\u001b[0m \u001b[39mimport\u001b[39;00m \u001b[39mcollections\u001b[39;00m\n\u001b[1;32m----> 3\u001b[0m \u001b[39mimport\u001b[39;00m \u001b[39mgzip\u001b[39;00m\n\u001b[0;32m      4\u001b[0m \u001b[39mimport\u001b[39;00m \u001b[39minspect\u001b[39;00m\n\u001b[0;32m      5\u001b[0m \u001b[39mimport\u001b[39;00m \u001b[39mitertools\u001b[39;00m\n",
      "File \u001b[1;32m~\\AppData\\Local\\Packages\\PythonSoftwareFoundation.Python.3.10_qbz5n2kfra8p0\\LocalCache\\local-packages\\Python310\\site-packages\\networkx\\utils\\decorators.py:191\u001b[0m, in \u001b[0;36mopen_file.<locals>._open_file\u001b[1;34m(path)\u001b[0m\n\u001b[0;32m    187\u001b[0m \u001b[39melse\u001b[39;00m:\n\u001b[0;32m    188\u001b[0m     \u001b[39m# could be None, or a file handle, in which case the algorithm will deal with it\u001b[39;00m\n\u001b[0;32m    189\u001b[0m     \u001b[39mreturn\u001b[39;00m path, \u001b[39mlambda\u001b[39;00m: \u001b[39mNone\u001b[39;00m\n\u001b[1;32m--> 191\u001b[0m fobj \u001b[39m=\u001b[39m _dispatch_dict[ext](path, mode\u001b[39m=\u001b[39;49mmode)\n\u001b[0;32m    192\u001b[0m \u001b[39mreturn\u001b[39;00m fobj, \u001b[39mlambda\u001b[39;00m: fobj\u001b[39m.\u001b[39mclose()\n",
      "\u001b[1;31mFileNotFoundError\u001b[0m: [Errno 2] No such file or directory: 'facebook-combined.txt'"
     ]
    }
   ],
   "source": [
    "fb = nx.read_edgelist('facebook-combined.txt', create_using = nx.Graph(), nodetype = int)\n"
   ]
  },
  {
   "cell_type": "code",
   "execution_count": null,
   "metadata": {},
   "outputs": [
    {
     "ename": "NameError",
     "evalue": "name 'fb' is not defined",
     "output_type": "error",
     "traceback": [
      "\u001b[1;31m---------------------------------------------------------------------------\u001b[0m",
      "\u001b[1;31mNameError\u001b[0m                                 Traceback (most recent call last)",
      "Cell \u001b[1;32mIn [28], line 1\u001b[0m\n\u001b[1;32m----> 1\u001b[0m pos \u001b[39m=\u001b[39m nx\u001b[39m.\u001b[39mspring_layout(fb)\n\u001b[0;32m      2\u001b[0m \u001b[39mimport\u001b[39;00m \u001b[39mwarnings\u001b[39;00m\n\u001b[0;32m      3\u001b[0m warnings\u001b[39m.\u001b[39mfilterwarnings(\u001b[39m'\u001b[39m\u001b[39mignore\u001b[39m\u001b[39m'\u001b[39m)\n",
      "\u001b[1;31mNameError\u001b[0m: name 'fb' is not defined"
     ]
    }
   ],
   "source": [
    "pos = nx.spring_layout(fb)\n",
    "import warnings\n",
    "warnings.filterwarnings('ignore')\n",
    "plt.style.use('fivethirtyeight')\n",
    "plt.rcParams['figure.figsize'] = (20, 15)\n",
    "plt.axis('off')\n",
    "nx.draw_networkx(fb, pos, with_labels = False, node_size = 35)\n",
    "plt.show()"
   ]
  }
 ],
 "metadata": {
  "kernelspec": {
   "display_name": "Python 3",
   "language": "python",
   "name": "python3"
  },
  "language_info": {
   "codemirror_mode": {
    "name": "ipython",
    "version": 3
   },
   "file_extension": ".py",
   "mimetype": "text/x-python",
   "name": "python",
   "nbconvert_exporter": "python",
   "pygments_lexer": "ipython3",
   "version": "3.10.9"
  },
  "orig_nbformat": 4,
  "vscode": {
   "interpreter": {
    "hash": "e3a928b85d63b2ef9b6ccf12e8d329d0cbc7130b7b94533fcc116c9895f7d050"
   }
  }
 },
 "nbformat": 4,
 "nbformat_minor": 2
}
