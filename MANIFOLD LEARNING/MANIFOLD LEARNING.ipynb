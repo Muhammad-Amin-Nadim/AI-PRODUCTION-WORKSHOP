{
 "cells": [
  {
   "cell_type": "code",
   "execution_count": 13,
   "metadata": {},
   "outputs": [],
   "source": [
    "import matplotlib.pyplot as plt\n",
    "import seaborn as sns; sns.set()\n",
    "import numpy as np"
   ]
  },
  {
   "cell_type": "code",
   "execution_count": 30,
   "metadata": {},
   "outputs": [],
   "source": [
    "def make_hello(N=1000, rseed=42):\n",
    "    # Make a plot with \"HELLO\" text; save as PNG\n",
    "    fig, ax = plt.subplots(figsize=(4, 1))\n",
    "    fig.subplots_adjust(left=0, right=1, bottom=0, top=1)\n",
    "    ax.axis('off')\n",
    "    ax.text(0.5, 0.4, 'HELLO', va='center', ha='center', weight='bold', size=85)\n",
    "    fig.savefig('hello.png')\n",
    "    plt.close(fig)\n",
    "    \n",
    "    # Open this PNG and draw random points from it\n",
    "    from matplotlib.image import imread\n",
    "    data = imread('hello.png')[::-1, :, 0].T\n",
    "    rng = np.random.RandomState(rseed)\n",
    "    X = rng.rand(4 * N, 2)\n",
    "    i, j = (X * data.shape).astype(int).T\n",
    "    mask = (data[i, j], 1)\n",
    "    X = X[mask]\n",
    "    X[:, 0] *= (data.shape[0] / data.shape[1])\n",
    "    X = X[:N]\n",
    "    return X[np.argsort(X[:, 0])]"
   ]
  },
  {
   "cell_type": "code",
   "execution_count": 31,
   "metadata": {},
   "outputs": [
    {
     "ename": "IndexError",
     "evalue": "arrays used as indices must be of integer (or boolean) type",
     "output_type": "error",
     "traceback": [
      "\u001b[1;31m---------------------------------------------------------------------------\u001b[0m",
      "\u001b[1;31mIndexError\u001b[0m                                Traceback (most recent call last)",
      "Cell \u001b[1;32mIn [31], line 1\u001b[0m\n\u001b[1;32m----> 1\u001b[0m X \u001b[39m=\u001b[39m make_hello(\u001b[39m1000\u001b[39;49m)\n\u001b[0;32m      2\u001b[0m colorize \u001b[39m=\u001b[39m \u001b[39mdict\u001b[39m(c\u001b[39m=\u001b[39mX[:, \u001b[39m0\u001b[39m], cmap\u001b[39m=\u001b[39mplt\u001b[39m.\u001b[39mcm\u001b[39m.\u001b[39mget_cmap(\u001b[39m'\u001b[39m\u001b[39mrainbow\u001b[39m\u001b[39m'\u001b[39m, \u001b[39m5\u001b[39m))\n\u001b[0;32m      3\u001b[0m plt\u001b[39m.\u001b[39mscatter(X[:, \u001b[39m0\u001b[39m], X[:, \u001b[39m1\u001b[39m], \u001b[39m*\u001b[39m\u001b[39m*\u001b[39mcolorize)\n",
      "Cell \u001b[1;32mIn [30], line 17\u001b[0m, in \u001b[0;36mmake_hello\u001b[1;34m(N, rseed)\u001b[0m\n\u001b[0;32m     15\u001b[0m i, j \u001b[39m=\u001b[39m (X \u001b[39m*\u001b[39m data\u001b[39m.\u001b[39mshape)\u001b[39m.\u001b[39mastype(\u001b[39mint\u001b[39m)\u001b[39m.\u001b[39mT\n\u001b[0;32m     16\u001b[0m mask \u001b[39m=\u001b[39m (data[i, j], \u001b[39m1\u001b[39m)\n\u001b[1;32m---> 17\u001b[0m X \u001b[39m=\u001b[39m X[mask]\n\u001b[0;32m     18\u001b[0m X[:, \u001b[39m0\u001b[39m] \u001b[39m*\u001b[39m\u001b[39m=\u001b[39m (data\u001b[39m.\u001b[39mshape[\u001b[39m0\u001b[39m] \u001b[39m/\u001b[39m data\u001b[39m.\u001b[39mshape[\u001b[39m1\u001b[39m])\n\u001b[0;32m     19\u001b[0m X \u001b[39m=\u001b[39m X[:N]\n",
      "\u001b[1;31mIndexError\u001b[0m: arrays used as indices must be of integer (or boolean) type"
     ]
    }
   ],
   "source": [
    "X = make_hello(1000)\n",
    "colorize = dict(c=X[:, 0], cmap=plt.cm.get_cmap('rainbow', 5))\n",
    "plt.scatter(X[:, 0], X[:, 1], **colorize)\n",
    "plt.axis('equal')"
   ]
  },
  {
   "cell_type": "code",
   "execution_count": 16,
   "metadata": {},
   "outputs": [
    {
     "ename": "NameError",
     "evalue": "name 'X' is not defined",
     "output_type": "error",
     "traceback": [
      "\u001b[1;31m---------------------------------------------------------------------------\u001b[0m",
      "\u001b[1;31mNameError\u001b[0m                                 Traceback (most recent call last)",
      "Cell \u001b[1;32mIn [16], line 7\u001b[0m\n\u001b[0;32m      3\u001b[0m     R \u001b[39m=\u001b[39m [[np\u001b[39m.\u001b[39mcos(theta), np\u001b[39m.\u001b[39msin(theta)],\n\u001b[0;32m      4\u001b[0m          [\u001b[39m-\u001b[39mnp\u001b[39m.\u001b[39msin(theta), np\u001b[39m.\u001b[39mcos(theta)]]\n\u001b[0;32m      5\u001b[0m     \u001b[39mreturn\u001b[39;00m np\u001b[39m.\u001b[39mdot(X, R)\n\u001b[1;32m----> 7\u001b[0m X2 \u001b[39m=\u001b[39m rotate(X, \u001b[39m20\u001b[39m) \u001b[39m+\u001b[39m \u001b[39m5\u001b[39m\n\u001b[0;32m      8\u001b[0m plt\u001b[39m.\u001b[39mscatter(X2[:, \u001b[39m0\u001b[39m], X2[:, \u001b[39m1\u001b[39m], \u001b[39m*\u001b[39m\u001b[39m*\u001b[39mcolorize)\n\u001b[0;32m      9\u001b[0m plt\u001b[39m.\u001b[39maxis(\u001b[39m'\u001b[39m\u001b[39mequal\u001b[39m\u001b[39m'\u001b[39m)\n",
      "\u001b[1;31mNameError\u001b[0m: name 'X' is not defined"
     ]
    }
   ],
   "source": [
    "def rotate(X, angle):\n",
    "    theta = np.deg2rad(angle)\n",
    "    R = [[np.cos(theta), np.sin(theta)],\n",
    "         [-np.sin(theta), np.cos(theta)]]\n",
    "    return np.dot(X, R)\n",
    "    \n",
    "X2 = rotate(X, 20) + 5\n",
    "plt.scatter(X2[:, 0], X2[:, 1], **colorize)\n",
    "plt.axis('equal')"
   ]
  },
  {
   "cell_type": "code",
   "execution_count": null,
   "metadata": {},
   "outputs": [
    {
     "ename": "NameError",
     "evalue": "name 'X' is not defined",
     "output_type": "error",
     "traceback": [
      "\u001b[1;31m---------------------------------------------------------------------------\u001b[0m",
      "\u001b[1;31mNameError\u001b[0m                                 Traceback (most recent call last)",
      "Cell \u001b[1;32mIn [12], line 2\u001b[0m\n\u001b[0;32m      1\u001b[0m \u001b[39mfrom\u001b[39;00m \u001b[39msklearn\u001b[39;00m\u001b[39m.\u001b[39;00m\u001b[39mmetrics\u001b[39;00m \u001b[39mimport\u001b[39;00m pairwise_distances\n\u001b[1;32m----> 2\u001b[0m D \u001b[39m=\u001b[39m pairwise_distances(X)\n\u001b[0;32m      3\u001b[0m D\u001b[39m.\u001b[39mshape\n",
      "\u001b[1;31mNameError\u001b[0m: name 'X' is not defined"
     ]
    }
   ],
   "source": [
    "from sklearn.metrics import pairwise_distances\n",
    "D = pairwise_distances(X)\n",
    "D.shape"
   ]
  }
 ],
 "metadata": {
  "kernelspec": {
   "display_name": "Python 3",
   "language": "python",
   "name": "python3"
  },
  "language_info": {
   "codemirror_mode": {
    "name": "ipython",
    "version": 3
   },
   "file_extension": ".py",
   "mimetype": "text/x-python",
   "name": "python",
   "nbconvert_exporter": "python",
   "pygments_lexer": "ipython3",
   "version": "3.10.9"
  },
  "orig_nbformat": 4,
  "vscode": {
   "interpreter": {
    "hash": "e3a928b85d63b2ef9b6ccf12e8d329d0cbc7130b7b94533fcc116c9895f7d050"
   }
  }
 },
 "nbformat": 4,
 "nbformat_minor": 2
}
