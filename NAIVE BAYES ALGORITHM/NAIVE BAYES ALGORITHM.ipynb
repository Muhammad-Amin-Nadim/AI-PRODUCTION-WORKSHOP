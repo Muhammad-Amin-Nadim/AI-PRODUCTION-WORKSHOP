{
 "cells": [
  {
   "attachments": {},
   "cell_type": "markdown",
   "metadata": {},
   "source": [
    "Naive Bayes Algorithm in Machine Learning\n",
    "In machine learning, the Naive Bayes algorithm is based on Bayes’ theorem with naïve assumptions. This makes it easier to train a model by assuming that the features are independent of each other"
   ]
  },
  {
   "attachments": {},
   "cell_type": "markdown",
   "metadata": {},
   "source": [
    "Naive Bayes Algorithm\n",
    "In machine learning, the Naive Bayes is a classification algorithm based on Bayes’ theorem. It is said to be naive because the foundation of this algorithm is based on naive assumptions. Some of the advantages of this algorithm are:\n",
    "\n",
    "1.It is a very simple algorithm for classification problems compared to other classification algorithms.\n",
    "\n",
    "2.It is also a very powerful algorithm which implies that it is faster to predict labels using it compared to other classification algorithms.\n",
    "\n",
    "3.Another advantage of using it is that it can also give better results on small datasets compared to other algorithms."
   ]
  },
  {
   "attachments": {},
   "cell_type": "markdown",
   "metadata": {},
   "source": [
    "Like all other machine learning algorithms, it also has some drawbacks. One of the biggest drawbacks that sometimes matters in classification issues is that Naive Bayes have a very strong assumption that features are independent of each other. It is therefore difficult to find such datasets in real problems where the features are independent of each other."
   ]
  },
  {
   "attachments": {},
   "cell_type": "markdown",
   "metadata": {},
   "source": [
    "Assumptions:\n",
    "\n",
    "The naive hypothesis of the Naive Bayes classifier states that each entity in the dataset makes an independent and equal contribution to the prediction of the labels.\n",
    "\n",
    "Simply put, we can say that we may not find any correlation between features and that each feature has equal importance for the formation of a classification model."
   ]
  },
  {
   "attachments": {},
   "cell_type": "markdown",
   "metadata": {},
   "source": [
    "These assumptions are usually not true when working in real-life problems, but the algorithm still works well, which is why it is known as the “naive” Bayes.\n",
    "\n",
    "Types:\n",
    "\n",
    "There are three types of Naive Bayes classifiers which depend on the distribution of the dataset, namely; Gaussian, Mautinomial and Bernoulli. Let’s review the types of Naive Bayes Classifier before we implement this algorithm using Python:\n",
    "\n",
    "1.Gaussian: It is used when the dataset is normally distributed.\n",
    "\n",
    "2.Multinomial: It is used when the dataset contains discrete values.\n",
    "\n",
    "3.Bernoulli: It is used while working on binary classification problems."
   ]
  },
  {
   "cell_type": "code",
   "execution_count": 1,
   "metadata": {},
   "outputs": [
    {
     "name": "stdout",
     "output_type": "stream",
     "text": [
      "[[50  0  0]\n",
      " [ 0 47  3]\n",
      " [ 0  3 47]]\n"
     ]
    }
   ],
   "source": [
    "from sklearn.naive_bayes import GaussianNB\n",
    "from sklearn.naive_bayes import MultinomialNB\n",
    "from sklearn import datasets\n",
    "from sklearn.metrics import confusion_matrix\n",
    "iris = datasets.load_iris()\n",
    "gnb = GaussianNB()\n",
    "mnb = MultinomialNB()\n",
    "y_pred_gnb = gnb.fit(iris.data, iris.target).predict(iris.data)\n",
    "cnf_matrix_gnb = confusion_matrix(iris.target, y_pred_gnb)\n",
    "print(cnf_matrix_gnb)"
   ]
  },
  {
   "cell_type": "code",
   "execution_count": 2,
   "metadata": {},
   "outputs": [
    {
     "name": "stdout",
     "output_type": "stream",
     "text": [
      "[[50  0  0]\n",
      " [ 0 46  4]\n",
      " [ 0  3 47]]\n"
     ]
    }
   ],
   "source": [
    "y_pred_mnb = mnb.fit(iris.data, iris.target).predict(iris.data)\n",
    "cnf_matrix_mnb = confusion_matrix(iris.target, y_pred_mnb)\n",
    "print(cnf_matrix_mnb)"
   ]
  },
  {
   "attachments": {},
   "cell_type": "markdown",
   "metadata": {},
   "source": [
    "This is how easy it is to implement the Naive Bayes algorithm using Python for classification problems in machine learning. Some of the real-time issues where the Naive Bayes classifier can be used are:"
   ]
  },
  {
   "attachments": {},
   "cell_type": "markdown",
   "metadata": {},
   "source": [
    "1.Text Classification\n",
    "\n",
    "2.Spam Detection\n",
    "\n",
    "3.Sentiment Analysis\n",
    "\n",
    "4.Recommendation Systems"
   ]
  },
  {
   "cell_type": "code",
   "execution_count": null,
   "metadata": {},
   "outputs": [],
   "source": []
  }
 ],
 "metadata": {
  "kernelspec": {
   "display_name": "Python 3",
   "language": "python",
   "name": "python3"
  },
  "language_info": {
   "codemirror_mode": {
    "name": "ipython",
    "version": 3
   },
   "file_extension": ".py",
   "mimetype": "text/x-python",
   "name": "python",
   "nbconvert_exporter": "python",
   "pygments_lexer": "ipython3",
   "version": "3.10.9"
  },
  "orig_nbformat": 4,
  "vscode": {
   "interpreter": {
    "hash": "e3a928b85d63b2ef9b6ccf12e8d329d0cbc7130b7b94533fcc116c9895f7d050"
   }
  }
 },
 "nbformat": 4,
 "nbformat_minor": 2
}
